{
    "metadata": {
        "kernelspec": {
            "name": "SQL",
            "display_name": "SQL",
            "language": "sql"
        },
        "language_info": {
            "name": "sql",
            "version": ""
        },
        "extensions": {
            "azuredatastudio": {
                "version": 1,
                "views": []
            }
        }
    },
    "nbformat_minor": 2,
    "nbformat": 4,
    "cells": [
        {
            "cell_type": "markdown",
            "source": [
                "<span style=\"color: rgb(18, 38, 44); font-family: Arial; font-size: 15px; background-color: rgb(239, 249, 252);\">1.Számítsa ki, hogy átlagosan hány napig tartottak a foglalások&nbsp;</span> <span style=\"box-sizing: border-box; color: rgb(18, 38, 44); font-family: Arial; font-size: 0.9375rem; background-color: rgb(239, 249, 252);\">szállásonként, illetve ügyfelenként (külön-külön)!<br style=\"box-sizing: border-box;\">A szállás,&nbsp;</span> <span style=\"box-sizing: border-box; color: rgb(18, 38, 44); font-family: Arial; font-size: 0.9375rem; background-color: rgb(239, 249, 252);\">illetve az ügyfél esetén elég az azonosítójukat megadni.&nbsp;</span>"
            ],
            "metadata": {
                "azdata_cell_guid": "bfbd97c0-313d-41ee-87b1-85a942d8245d"
            },
            "attachments": {}
        },
        {
            "cell_type": "code",
            "source": [
                "SELECT sz.SZALLAS_FK,\r\n",
                "       f.UGYFEL_FK,\r\n",
                "       AVG(DATEDIFF(day, f.METTOL, f.MEDDIG))\r\n",
                "From Foglalas f join szoba sz on f.SZOBA_FK = sz.SZOBA_ID\r\n",
                "group by GROUPING sets(sz.SZALLAS_FK, f.UGYFEL_FK)"
            ],
            "metadata": {
                "azdata_cell_guid": "f39831c0-24bd-4211-8527-967a0fdbb263"
            },
            "outputs": [],
            "execution_count": null
        },
        {
            "cell_type": "markdown",
            "source": [
                "2.Készítsünk lekérdezést, amely megadja, hogy szállás típusonként, <span style=\"box-sizing: border-box; font-size: 0.9375rem;\">azon belül szálláshely kategóriánként (csillagok_szama) hány&nbsp;</span> <span style=\"box-sizing: border-box; font-size: 0.9375rem;\">db szálláshely van!&nbsp;</span> \n",
                "\n",
                "<span style=\"box-sizing: border-box; font-size: 0.9375rem;\">a. A lista jelenítse&nbsp; meg a részösszegeket és&nbsp;</span> <span style=\"box-sizing: border-box; font-size: 0.9375rem;\">a végösszeget is (csak a végösszeget kell külön elnevezni)</span>"
            ],
            "metadata": {
                "azdata_cell_guid": "5faa1157-5e54-4583-b8b4-8b27d3b48d96"
            },
            "attachments": {}
        },
        {
            "cell_type": "code",
            "source": [
                "SELECT isnull(TIPUS, 'Végösszeg'),\r\n",
                "       CSILLAGOK_SZAMA,\r\n",
                "       count(*)\r\n",
                "from Szallashely\r\n",
                "group by rollup(TIPUS, CSILLAGOK_SZAMA)"
            ],
            "metadata": {
                "azdata_cell_guid": "88365b8c-927e-45d9-89a5-15159f044f00"
            },
            "outputs": [],
            "execution_count": null
        },
        {
            "cell_type": "markdown",
            "source": [
                "3.Jelenítsük meg az ügyfelek nevét, minden egyes foglalásuk <span style=\"box-sizing: border-box; font-size: 0.9375rem;\">kezdő dátumát, és azt, hogy a foglalás összesen hány főre&nbsp;</span> <span style=\"box-sizing: border-box; font-size: 0.9375rem;\">történt.&nbsp;</span> \n",
                "\n",
                "<span style=\"box-sizing: border-box; font-size: 0.9375rem;\">a. Egy új oszlopban mindig jelenjen meg az előző foglalás&nbsp;</span> <span style=\"box-sizing: border-box; font-size: 0.9375rem;\">kezdő dátuma is!</span>"
            ],
            "metadata": {
                "azdata_cell_guid": "74b6a76d-e164-4438-8bdb-e64f698ab256"
            },
            "attachments": {}
        },
        {
            "cell_type": "code",
            "source": [
                "SELECT v.NEV,\r\n",
                "       METTOL,\r\n",
                "       FELNOTT_SZAM+GYERMEK_SZAM,\r\n",
                "       LAG(METTOL) over (partition by v.nev order by mettol)\r\n",
                "from Vendeg v join Foglalas f on v.USERNEV = f.UGYFEL_FK"
            ],
            "metadata": {
                "azdata_cell_guid": "3c80a3ea-d960-493f-afa0-e4a985af7378"
            },
            "outputs": [],
            "execution_count": null
        },
        {
            "cell_type": "markdown",
            "source": [
                "```\n",
                "5.A mellékletben lévő 3-as lekérdezésben a táblák összekapcsolását a WHERE feltételben megfogalmazott egyenlőségek helyett oldjuk meg JOIN-ok segítségével egy új ablakban. a. Hasonlítsuk össze a lekérdezések becsült végrehajtási terveit (Estimated Execution Plan), majd az átlagos futási idejüket 3-3 futtatás után. Mit tapasztalunk?\n",
                "```"
            ],
            "metadata": {
                "azdata_cell_guid": "4ea2c1d1-b542-4144-bdb2-258d642ca49c"
            },
            "attachments": {}
        },
        {
            "cell_type": "code",
            "source": [
                "/*SELECT szh.SZALLAS_ID, szh.SZALLAS_NEV\r\n",
                "FROM Foglalas f,  Szoba sz,  Szallashely szh \r\n",
                "WHERE f.SZOBA_FK = sz.SZOBA_ID \r\n",
                "      AND szh.SZALLAS_ID = sz.SZALLAS_FK\r\n",
                "GROUP BY szh.SZALLAS_ID, szh.SZALLAS_NEV\r\n",
                "ORDER BY COUNT(*) DESC*/\r\n",
                "\r\n",
                "SELECT szh.SZALLAS_ID, \r\n",
                "       szh.SZALLAS_NEV\r\n",
                "FROM Foglalas f join szoba sz on sz.SZOBA_ID = f.SZOBA_FK join Szallashely szh on szh.SZALLAS_ID = sz.SZALLAS_FK\r\n",
                "GROUP BY szh.SZALLAS_ID, szh.SZALLAS_NEV\r\n",
                "ORDER BY COUNT(*) DESC"
            ],
            "metadata": {
                "azdata_cell_guid": "0ff25f66-784d-4117-8b72-d3b36351b3fa"
            },
            "outputs": [],
            "execution_count": null
        },
        {
            "cell_type": "code",
            "source": [
                "DECLARE @xml XML\r\n",
                "SET @xml = N'\r\n",
                "\r\n",
                "<CustomersOrders>\r\n",
                " <Customer custid=\"1\">\r\n",
                " <!-- Comment 111 -->\r\n",
                " <companyname>Customer NRZBB</companyname>\r\n",
                " <Order orderid=\"10692\">\r\n",
                " <orderdate>2007-10-03T00:00:00</orderdate>\r\n",
                " </Order>\r\n",
                " <Order orderid=\"10702\">\r\n",
                " <orderdate>2007-10-13T00:00:00</orderdate>\r\n",
                " </Order>\r\n",
                " <Order orderid=\"10952\">\r\n",
                " <orderdate>2008-03-16T00:00:00</orderdate>\r\n",
                " </Order>\r\n",
                " </Customer>\r\n",
                " <Customer custid=\"2\">\r\n",
                " <!-- Comment 222 --> \r\n",
                " <companyname>Customer MLTDN</companyname>\r\n",
                " <Order orderid=\"10308\">\r\n",
                " <orderdate>2006-09-18T00:00:00</orderdate>\r\n",
                " </Order>\r\n",
                " <Order orderid=\"10952\">\r\n",
                " <orderdate>2008-03-04T00:00:00</orderdate>\r\n",
                " </Order>\r\n",
                " </Customer>\r\n",
                "</CustomersOrders>'\r\n",
                "\r\n",
                "select @xml.query('/CustomersOrders/Customer/Order')"
            ],
            "metadata": {
                "azdata_cell_guid": "094b5f9c-d7ba-4a37-b418-0eed8c501d6f"
            },
            "outputs": [
                {
                    "output_type": "display_data",
                    "data": {
                        "text/html": "(1 row affected)"
                    },
                    "metadata": {}
                },
                {
                    "output_type": "display_data",
                    "data": {
                        "text/html": "Total execution time: 00:00:00.059"
                    },
                    "metadata": {}
                },
                {
                    "output_type": "execute_result",
                    "metadata": {},
                    "execution_count": 11,
                    "data": {
                        "application/vnd.dataresource+json": {
                            "schema": {
                                "fields": [
                                    {
                                        "name": "(No column name)"
                                    }
                                ]
                            },
                            "data": [
                                {
                                    "0": "<Order orderid=\"10692\"><orderdate>2007-10-03T00:00:00</orderdate></Order><Order orderid=\"10702\"><orderdate>2007-10-13T00:00:00</orderdate></Order><Order orderid=\"10952\"><orderdate>2008-03-16T00:00:00</orderdate></Order><Order orderid=\"10308\"><orderdate>2006-09-18T00:00:00</orderdate></Order><Order orderid=\"10952\"><orderdate>2008-03-04T00:00:00</orderdate></Order>"
                                }
                            ]
                        },
                        "text/html": [
                            "<table>",
                            "<tr><th>(No column name)</th></tr>",
                            "<tr><td>&lt;Order orderid=&quot;10692&quot;&gt;&lt;orderdate&gt;2007-10-03T00:00:00&lt;/orderdate&gt;&lt;/Order&gt;&lt;Order orderid=&quot;10702&quot;&gt;&lt;orderdate&gt;2007-10-13T00:00:00&lt;/orderdate&gt;&lt;/Order&gt;&lt;Order orderid=&quot;10952&quot;&gt;&lt;orderdate&gt;2008-03-16T00:00:00&lt;/orderdate&gt;&lt;/Order&gt;&lt;Order orderid=&quot;10308&quot;&gt;&lt;orderdate&gt;2006-09-18T00:00:00&lt;/orderdate&gt;&lt;/Order&gt;&lt;Order orderid=&quot;10952&quot;&gt;&lt;orderdate&gt;2008-03-04T00:00:00&lt;/orderdate&gt;&lt;/Order&gt;</td></tr>",
                            "</table>"
                        ]
                    }
                }
            ],
            "execution_count": 11
        },
        {
            "cell_type": "code",
            "source": [
                "select SZOBA_ID, SZOBA_SZAMA\r\n",
                "from Szoba\r\n",
                "where KLIMAS ='i' and FEROHELY+POTAGY>=4\r\n",
                "for XML auto, elements"
            ],
            "metadata": {
                "azdata_cell_guid": "7affa915-0d5b-4c3b-9e31-fb4bb4907747"
            },
            "outputs": [
                {
                    "output_type": "display_data",
                    "data": {
                        "text/html": "(53 rows affected)"
                    },
                    "metadata": {}
                },
                {
                    "output_type": "display_data",
                    "data": {
                        "text/html": "Total execution time: 00:00:00.050"
                    },
                    "metadata": {}
                },
                {
                    "output_type": "execute_result",
                    "metadata": {},
                    "execution_count": 7,
                    "data": {
                        "application/vnd.dataresource+json": {
                            "schema": {
                                "fields": [
                                    {
                                        "name": "XML_F52E2B61-18A1-11d1-B105-00805F49916B"
                                    }
                                ]
                            },
                            "data": [
                                {
                                    "0": "<Szoba><SZOBA_ID>2</SZOBA_ID><SZOBA_SZAMA>2</SZOBA_SZAMA></Szoba><Szoba><SZOBA_ID>3</SZOBA_ID><SZOBA_SZAMA>3</SZOBA_SZAMA></Szoba><Szoba><SZOBA_ID>9</SZOBA_ID><SZOBA_SZAMA>9</SZOBA_SZAMA></Szoba><Szoba><SZOBA_ID>14</SZOBA_ID><SZOBA_SZAMA>2</SZOBA_SZAMA></Szoba><Szoba><SZOBA_ID>16</SZOBA_ID><SZOBA_SZAMA>4</SZOBA_SZAMA></Szoba><Szoba><SZOBA_ID>17</SZOBA_ID><SZOBA_SZAMA>1</SZOBA_SZAMA></Szoba><Szoba><SZOBA_ID>24</SZOBA_ID><SZOBA_SZAMA>8</SZOBA_SZAMA></Szoba><Szoba><SZOBA_ID>30</SZOBA_ID><SZOBA_SZAMA>6</SZOBA_SZAMA></Szoba><Szoba><SZOBA_ID>31</SZOBA_ID><SZOBA_SZAMA>7</SZOBA_SZAMA></Szoba><Szoba><SZOBA_ID>33</SZOBA_ID><SZOBA_SZAMA>9</SZOBA_SZAMA></Szoba><Szoba><SZOBA_ID>34</SZOBA_ID><SZOBA_SZAMA>10</SZOBA_SZAMA></Szoba><Szoba><SZOBA_ID>36</SZOBA_ID><SZOBA_SZAMA>12</SZOBA_SZAMA></Szoba><Szoba><SZOBA_ID>51</SZOBA_ID><SZOBA_SZAMA>2</SZOBA_SZAMA></Szoba><Szoba><SZOBA_ID>67</SZOBA_ID><SZOBA_SZAMA>18</SZOBA_SZAMA></Szoba><Szoba><SZOBA_ID>68</SZOBA_ID><SZOBA_SZAMA>19</SZOBA_SZAMA></Szoba><Szoba><SZOBA_ID>77</SZOBA_ID><SZOBA_SZAMA>28</SZOBA_SZAMA></Szoba><Szoba><SZOBA_ID>92</SZOBA_ID><SZOBA_SZAMA>2</SZOBA_SZAMA></Szoba><Szoba><SZOBA_ID>93</SZOBA_ID><SZOBA_SZAMA>3</SZOBA_SZAMA></Szoba><Szoba><SZOBA_ID>95</SZOBA_ID><SZOBA_SZAMA>5</SZOBA_SZAMA></Szoba><Szoba><SZOBA_ID>113</SZOBA_ID><SZOBA_SZAMA>23</SZOBA_SZAMA></Szoba><Szoba><SZOBA_ID>117</SZOBA_ID><SZOBA_SZAMA>27</SZOBA_SZAMA></Szoba><Szoba><SZOBA_ID>120</SZOBA_ID><SZOBA_SZAMA>30</SZOBA_SZAMA></Szoba><Szoba><SZOBA_ID>122</SZOBA_ID><SZOBA_SZAMA>32</SZOBA_SZAMA></Szoba><Szoba><SZOBA_ID>138</SZOBA_ID><SZOBA_SZAMA>4</SZOBA_SZAMA></Szoba><Szoba><SZOBA_ID>143</SZOBA_ID><SZOBA_SZAMA>9</SZOBA_SZAMA></Szoba><Szoba><SZOBA_ID>145</SZOBA_ID><SZOBA_SZAMA>11</SZOBA_SZAMA></Szoba><Szoba><SZOBA_ID>156</SZOBA_ID><SZOBA_SZAMA>22</SZOBA_SZAMA></Szoba><Szoba><SZOBA_ID>160</SZOBA_ID><SZOBA_SZAMA>1</SZOBA_SZAMA></Szoba><Szoba><SZOBA_ID>161</SZOBA_ID><SZOBA_SZAMA>2</SZOBA_SZAMA></Szoba><Szoba><SZOBA_ID>168</SZOBA_ID><SZOBA_SZAMA>4</SZOBA_SZAMA></Szoba><Szoba><SZOBA_ID>176</SZOBA_ID><SZOBA_SZAMA>12</SZOBA_SZAMA></Szoba><Szoba><SZOBA_ID>177</SZOBA_ID><SZOBA_SZAMA>13</SZOBA_SZAMA></Szoba><Szoba><SZOBA_ID>179</SZOBA_ID><SZOBA_SZAMA>15</SZOBA_SZAMA></Szoba><Szoba><SZOBA_ID>180</SZOBA_ID><SZOBA_SZAMA>16</SZOBA_SZAMA></Szoba><Szoba><SZOBA_ID>186</SZOBA_ID><SZOBA_SZAMA>22</SZOBA_SZAMA></Szoba><Szoba><SZOBA_ID>187</SZOBA_ID><SZOBA_SZAMA>23</SZOBA_SZAMA></Szoba><Szoba><SZOBA_ID>189</SZOBA_ID><SZOBA_SZAMA>25</SZOBA_SZAMA></Szoba><Szoba><SZOBA_ID>199</SZOBA_ID><SZOBA_SZAMA>35</SZOBA_SZAMA></Szoba><Szoba><SZOBA_ID>202</SZOBA_ID><SZOBA_SZAMA>38</SZOBA_SZAMA></Szoba><Szoba><SZOBA_ID>204</SZOBA_ID><SZOBA_SZAMA>40</SZOBA_SZAMA></Szoba><Szoba><SZOBA_ID>214</SZOBA_ID><SZOBA_SZAMA>50</SZOBA_SZAMA></Szoba><Szoba><SZOBA_ID>216</SZOBA_ID><SZOBA_SZAMA>2</SZOBA_SZAMA></Szoba><Szoba><SZOBA_ID>230</SZOBA_ID><SZOBA_SZAMA>4</SZOBA_SZAMA></Szoba><Szoba><SZOBA_ID>234</SZOBA_ID><SZOBA_SZAMA>4</SZOBA_SZAMA></Szoba><Szoba><SZOBA_ID>238</SZOBA_ID><SZOBA_SZAMA>8</SZOBA_SZAMA></Szoba><Szoba><SZOBA_ID>239</SZOBA_ID><SZOBA_SZAMA>9</SZOBA_SZAMA></Szoba><Szoba><SZOBA_ID>248</SZOBA_ID><SZOBA_SZAMA>6</SZOBA_SZAMA></Szoba><Szoba><SZOBA_ID>252</SZOBA_ID><SZOBA_SZAMA>10</SZOBA_SZAMA></Szoba><Szoba><SZOBA_ID>256</SZOBA_ID><SZOBA_SZAMA>14</SZOBA_SZAMA></Szoba><Szoba><SZOBA_ID>263</SZOBA_ID><SZOBA_SZAMA>1</SZOBA_SZAMA></Szoba><Szoba><SZOBA_ID>274</SZOBA_ID><SZOBA_SZAMA>12</SZOBA_SZAMA></Szoba><Szoba><SZOBA_ID>278</SZOBA_ID><SZOBA_SZAMA>1</SZOBA_SZAMA></Szoba><Szoba><SZOBA_ID>284</SZOBA_ID><SZOBA_SZAMA>4</SZOBA_SZAMA></Szoba>"
                                }
                            ]
                        },
                        "text/html": [
                            "<table>",
                            "<tr><th>XML_F52E2B61-18A1-11d1-B105-00805F49916B</th></tr>",
                            "<tr><td>&lt;Szoba&gt;&lt;SZOBA_ID&gt;2&lt;/SZOBA_ID&gt;&lt;SZOBA_SZAMA&gt;2&lt;/SZOBA_SZAMA&gt;&lt;/Szoba&gt;&lt;Szoba&gt;&lt;SZOBA_ID&gt;3&lt;/SZOBA_ID&gt;&lt;SZOBA_SZAMA&gt;3&lt;/SZOBA_SZAMA&gt;&lt;/Szoba&gt;&lt;Szoba&gt;&lt;SZOBA_ID&gt;9&lt;/SZOBA_ID&gt;&lt;SZOBA_SZAMA&gt;9&lt;/SZOBA_SZAMA&gt;&lt;/Szoba&gt;&lt;Szoba&gt;&lt;SZOBA_ID&gt;14&lt;/SZOBA_ID&gt;&lt;SZOBA_SZAMA&gt;2&lt;/SZOBA_SZAMA&gt;&lt;/Szoba&gt;&lt;Szoba&gt;&lt;SZOBA_ID&gt;16&lt;/SZOBA_ID&gt;&lt;SZOBA_SZAMA&gt;4&lt;/SZOBA_SZAMA&gt;&lt;/Szoba&gt;&lt;Szoba&gt;&lt;SZOBA_ID&gt;17&lt;/SZOBA_ID&gt;&lt;SZOBA_SZAMA&gt;1&lt;/SZOBA_SZAMA&gt;&lt;/Szoba&gt;&lt;Szoba&gt;&lt;SZOBA_ID&gt;24&lt;/SZOBA_ID&gt;&lt;SZOBA_SZAMA&gt;8&lt;/SZOBA_SZAMA&gt;&lt;/Szoba&gt;&lt;Szoba&gt;&lt;SZOBA_ID&gt;30&lt;/SZOBA_ID&gt;&lt;SZOBA_SZAMA&gt;6&lt;/SZOBA_SZAMA&gt;&lt;/Szoba&gt;&lt;Szoba&gt;&lt;SZOBA_ID&gt;31&lt;/SZOBA_ID&gt;&lt;SZOBA_SZAMA&gt;7&lt;/SZOBA_SZAMA&gt;&lt;/Szoba&gt;&lt;Szoba&gt;&lt;SZOBA_ID&gt;33&lt;/SZOBA_ID&gt;&lt;SZOBA_SZAMA&gt;9&lt;/SZOBA_SZAMA&gt;&lt;/Szoba&gt;&lt;Szoba&gt;&lt;SZOBA_ID&gt;34&lt;/SZOBA_ID&gt;&lt;SZOBA_SZAMA&gt;10&lt;/SZOBA_SZAMA&gt;&lt;/Szoba&gt;&lt;Szoba&gt;&lt;SZOBA_ID&gt;36&lt;/SZOBA_ID&gt;&lt;SZOBA_SZAMA&gt;12&lt;/SZOBA_SZAMA&gt;&lt;/Szoba&gt;&lt;Szoba&gt;&lt;SZOBA_ID&gt;51&lt;/SZOBA_ID&gt;&lt;SZOBA_SZAMA&gt;2&lt;/SZOBA_SZAMA&gt;&lt;/Szoba&gt;&lt;Szoba&gt;&lt;SZOBA_ID&gt;67&lt;/SZOBA_ID&gt;&lt;SZOBA_SZAMA&gt;18&lt;/SZOBA_SZAMA&gt;&lt;/Szoba&gt;&lt;Szoba&gt;&lt;SZOBA_ID&gt;68&lt;/SZOBA_ID&gt;&lt;SZOBA_SZAMA&gt;19&lt;/SZOBA_SZAMA&gt;&lt;/Szoba&gt;&lt;Szoba&gt;&lt;SZOBA_ID&gt;77&lt;/SZOBA_ID&gt;&lt;SZOBA_SZAMA&gt;28&lt;/SZOBA_SZAMA&gt;&lt;/Szoba&gt;&lt;Szoba&gt;&lt;SZOBA_ID&gt;92&lt;/SZOBA_ID&gt;&lt;SZOBA_SZAMA&gt;2&lt;/SZOBA_SZAMA&gt;&lt;/Szoba&gt;&lt;Szoba&gt;&lt;SZOBA_ID&gt;93&lt;/SZOBA_ID&gt;&lt;SZOBA_SZAMA&gt;3&lt;/SZOBA_SZAMA&gt;&lt;/Szoba&gt;&lt;Szoba&gt;&lt;SZOBA_ID&gt;95&lt;/SZOBA_ID&gt;&lt;SZOBA_SZAMA&gt;5&lt;/SZOBA_SZAMA&gt;&lt;/Szoba&gt;&lt;Szoba&gt;&lt;SZOBA_ID&gt;113&lt;/SZOBA_ID&gt;&lt;SZOBA_SZAMA&gt;23&lt;/SZOBA_SZAMA&gt;&lt;/Szoba&gt;&lt;Szoba&gt;&lt;SZOBA_ID&gt;117&lt;/SZOBA_ID&gt;&lt;SZOBA_SZAMA&gt;27&lt;/SZOBA_SZAMA&gt;&lt;/Szoba&gt;&lt;Szoba&gt;&lt;SZOBA_ID&gt;120&lt;/SZOBA_ID&gt;&lt;SZOBA_SZAMA&gt;30&lt;/SZOBA_SZAMA&gt;&lt;/Szoba&gt;&lt;Szoba&gt;&lt;SZOBA_ID&gt;122&lt;/SZOBA_ID&gt;&lt;SZOBA_SZAMA&gt;32&lt;/SZOBA_SZAMA&gt;&lt;/Szoba&gt;&lt;Szoba&gt;&lt;SZOBA_ID&gt;138&lt;/SZOBA_ID&gt;&lt;SZOBA_SZAMA&gt;4&lt;/SZOBA_SZAMA&gt;&lt;/Szoba&gt;&lt;Szoba&gt;&lt;SZOBA_ID&gt;143&lt;/SZOBA_ID&gt;&lt;SZOBA_SZAMA&gt;9&lt;/SZOBA_SZAMA&gt;&lt;/Szoba&gt;&lt;Szoba&gt;&lt;SZOBA_ID&gt;145&lt;/SZOBA_ID&gt;&lt;SZOBA_SZAMA&gt;11&lt;/SZOBA_SZAMA&gt;&lt;/Szoba&gt;&lt;Szoba&gt;&lt;SZOBA_ID&gt;156&lt;/SZOBA_ID&gt;&lt;SZOBA_SZAMA&gt;22&lt;/SZOBA_SZAMA&gt;&lt;/Szoba&gt;&lt;Szoba&gt;&lt;SZOBA_ID&gt;160&lt;/SZOBA_ID&gt;&lt;SZOBA_SZAMA&gt;1&lt;/SZOBA_SZAMA&gt;&lt;/Szoba&gt;&lt;Szoba&gt;&lt;SZOBA_ID&gt;161&lt;/SZOBA_ID&gt;&lt;SZOBA_SZAMA&gt;2&lt;/SZOBA_SZAMA&gt;&lt;/Szoba&gt;&lt;Szoba&gt;&lt;SZOBA_ID&gt;168&lt;/SZOBA_ID&gt;&lt;SZOBA_SZAMA&gt;4&lt;/SZOBA_SZAMA&gt;&lt;/Szoba&gt;&lt;Szoba&gt;&lt;SZOBA_ID&gt;176&lt;/SZOBA_ID&gt;&lt;SZOBA_SZAMA&gt;12&lt;/SZOBA_SZAMA&gt;&lt;/Szoba&gt;&lt;Szoba&gt;&lt;SZOBA_ID&gt;177&lt;/SZOBA_ID&gt;&lt;SZOBA_SZAMA&gt;13&lt;/SZOBA_SZAMA&gt;&lt;/Szoba&gt;&lt;Szoba&gt;&lt;SZOBA_ID&gt;179&lt;/SZOBA_ID&gt;&lt;SZOBA_SZAMA&gt;15&lt;/SZOBA_SZAMA&gt;&lt;/Szoba&gt;&lt;Szoba&gt;&lt;SZOBA_ID&gt;180&lt;/SZOBA_ID&gt;&lt;SZOBA_SZAMA&gt;16&lt;/SZOBA_SZAMA&gt;&lt;/Szoba&gt;&lt;Szoba&gt;&lt;SZOBA_ID&gt;186&lt;/SZOBA_ID&gt;&lt;SZOBA_SZAMA&gt;22&lt;/SZOBA_SZAMA&gt;&lt;/Szoba&gt;&lt;Szoba&gt;&lt;SZOBA_ID&gt;187&lt;/SZOBA_ID&gt;&lt;SZOBA_SZAMA&gt;23&lt;/SZOBA_SZAMA&gt;&lt;/Szoba&gt;&lt;Szoba&gt;&lt;SZOBA_ID&gt;189&lt;/SZOBA_ID&gt;&lt;SZOBA_SZAMA&gt;25&lt;/SZOBA_SZAMA&gt;&lt;/Szoba&gt;&lt;Szoba&gt;&lt;SZOBA_ID&gt;199&lt;/SZOBA_ID&gt;&lt;SZOBA_SZAMA&gt;35&lt;/SZOBA_SZAMA&gt;&lt;/Szoba&gt;&lt;Szoba&gt;&lt;SZOBA_ID&gt;202&lt;/SZOBA_ID&gt;&lt;SZOBA_SZAMA&gt;38&lt;/SZOBA_SZAMA&gt;&lt;/Szoba&gt;&lt;Szoba&gt;&lt;SZOBA_ID&gt;204&lt;/SZOBA_ID&gt;&lt;SZOBA_SZAMA&gt;40&lt;/SZOBA_SZAMA&gt;&lt;/Szoba&gt;&lt;Szoba&gt;&lt;SZOBA_ID&gt;214&lt;/SZOBA_ID&gt;&lt;SZOBA_SZAMA&gt;50&lt;/SZOBA_SZAMA&gt;&lt;/Szoba&gt;&lt;Szoba&gt;&lt;SZOBA_ID&gt;216&lt;/SZOBA_ID&gt;&lt;SZOBA_SZAMA&gt;2&lt;/SZOBA_SZAMA&gt;&lt;/Szoba&gt;&lt;Szoba&gt;&lt;SZOBA_ID&gt;230&lt;/SZOBA_ID&gt;&lt;SZOBA_SZAMA&gt;4&lt;/SZOBA_SZAMA&gt;&lt;/Szoba&gt;&lt;Szoba&gt;&lt;SZOBA_ID&gt;234&lt;/SZOBA_ID&gt;&lt;SZOBA_SZAMA&gt;4&lt;/SZOBA_SZAMA&gt;&lt;/Szoba&gt;&lt;Szoba&gt;&lt;SZOBA_ID&gt;238&lt;/SZOBA_ID&gt;&lt;SZOBA_SZAMA&gt;8&lt;/SZOBA_SZAMA&gt;&lt;/Szoba&gt;&lt;Szoba&gt;&lt;SZOBA_ID&gt;239&lt;/SZOBA_ID&gt;&lt;SZOBA_SZAMA&gt;9&lt;/SZOBA_SZAMA&gt;&lt;/Szoba&gt;&lt;Szoba&gt;&lt;SZOBA_ID&gt;248&lt;/SZOBA_ID&gt;&lt;SZOBA_SZAMA&gt;6&lt;/SZOBA_SZAMA&gt;&lt;/Szoba&gt;&lt;Szoba&gt;&lt;SZOBA_ID&gt;252&lt;/SZOBA_ID&gt;&lt;SZOBA_SZAMA&gt;10&lt;/SZOBA_SZAMA&gt;&lt;/Szoba&gt;&lt;Szoba&gt;&lt;SZOBA_ID&gt;256&lt;/SZOBA_ID&gt;&lt;SZOBA_SZAMA&gt;14&lt;/SZOBA_SZAMA&gt;&lt;/Szoba&gt;&lt;Szoba&gt;&lt;SZOBA_ID&gt;263&lt;/SZOBA_ID&gt;&lt;SZOBA_SZAMA&gt;1&lt;/SZOBA_SZAMA&gt;&lt;/Szoba&gt;&lt;Szoba&gt;&lt;SZOBA_ID&gt;274&lt;/SZOBA_ID&gt;&lt;SZOBA_SZAMA&gt;12&lt;/SZOBA_SZAMA&gt;&lt;/Szoba&gt;&lt;Szoba&gt;&lt;SZOBA_ID&gt;278&lt;/SZOBA_ID&gt;&lt;SZOBA_SZAMA&gt;1&lt;/SZOBA_SZAMA&gt;&lt;/Szoba&gt;&lt;Szoba&gt;&lt;SZOBA_ID&gt;284&lt;/SZOBA_ID&gt;&lt;SZOBA_SZAMA&gt;4&lt;/SZOBA_SZAMA&gt;&lt;/Szoba&gt;</td></tr>",
                            "</table>"
                        ]
                    }
                }
            ],
            "execution_count": 7
        },
        {
            "cell_type": "code",
            "source": [
                "declare @x xml\r\n",
                "set @x = cast(N'\r\n",
                "<CustomersOrders>\r\n",
                " <Customer custid=\"1\">\r\n",
                " <!-- Comment 111 -->\r\n",
                " <companyname>Customer NRZBB</companyname>\r\n",
                " <Order orderid=\"10692\">\r\n",
                " <orderdate>2007-10-03T00:00:00</orderdate>\r\n",
                " </Order>\r\n",
                " <Order orderid=\"10702\">\r\n",
                " <orderdate>2007-10-13T00:00:00</orderdate>\r\n",
                " </Order>\r\n",
                " <Order orderid=\"10952\">\r\n",
                " <orderdate>2008-03-16T00:00:00</orderdate>\r\n",
                " </Order>\r\n",
                " </Customer>\r\n",
                " <Customer custid=\"2\">\r\n",
                " <!-- Comment 222 --> \r\n",
                " <companyname>Customer MLTDN</companyname>\r\n",
                " <Order orderid=\"10308\">\r\n",
                " <orderdate>2006-09-18T00:00:00</orderdate>\r\n",
                " </Order>\r\n",
                " <Order orderid=\"10952\">\r\n",
                " <orderdate>2008-03-04T00:00:00</orderdate>\r\n",
                " </Order>\r\n",
                " </Customer>\r\n",
                "</CustomersOrders>'\r\n",
                "as XML)\r\n",
                ""
            ],
            "metadata": {
                "azdata_cell_guid": "da23528e-9f11-4f95-b146-8883bfb80632"
            },
            "outputs": [
                {
                    "output_type": "display_data",
                    "data": {
                        "text/html": "Commands completed successfully."
                    },
                    "metadata": {}
                },
                {
                    "output_type": "display_data",
                    "data": {
                        "text/html": "Total execution time: 00:00:00.038"
                    },
                    "metadata": {}
                }
            ],
            "execution_count": 10
        }
    ]
}